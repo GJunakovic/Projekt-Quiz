{
  "nbformat": 4,
  "nbformat_minor": 0,
  "metadata": {
    "colab": {
      "provenance": [],
      "authorship_tag": "ABX9TyPjQuB0sWchTEgqe0UGNMIQ",
      "include_colab_link": true
    },
    "kernelspec": {
      "name": "python3",
      "display_name": "Python 3"
    },
    "language_info": {
      "name": "python"
    }
  },
  "cells": [
    {
      "cell_type": "markdown",
      "metadata": {
        "id": "view-in-github",
        "colab_type": "text"
      },
      "source": [
        "<a href=\"https://colab.research.google.com/github/GJunakovic/Projekt-Quiz/blob/main/Vjezba01DR.ipynb\" target=\"_parent\"><img src=\"https://colab.research.google.com/assets/colab-badge.svg\" alt=\"Open In Colab\"/></a>"
      ]
    },
    {
      "cell_type": "code",
      "execution_count": 8,
      "metadata": {
        "colab": {
          "base_uri": "https://localhost:8080/"
        },
        "id": "J-Ad41L5QhNe",
        "outputId": "fc3c5a47-9ee0-4a06-cfc4-669b972d85b5"
      },
      "outputs": [
        {
          "output_type": "stream",
          "name": "stdout",
          "text": [
            "[[4 1 4]\n",
            " [6 5 2]]\n",
            "-------\n",
            "[[5 5 2]\n",
            " [2 6 5]]\n",
            "Skalarni produkt sva vektora =  85\n"
          ]
        }
      ],
      "source": [
        "#zad 1\n",
        "\n",
        "import numpy as np\n",
        "\n",
        "matrica1 = np.random.randint(1,7, size=(2,3))\n",
        "matrica2 = np.random.randint(1,7, size=(2,3))\n",
        "\n",
        "print(matrica1)\n",
        "print('-------')\n",
        "print(matrica2)\n",
        "\n",
        "\n",
        "vektor1 = matrica1.reshape(6)\n",
        "vektor2 = matrica2.reshape(6)\n",
        "\n",
        "scalar_product = np.dot(vektor1, vektor2)\n",
        "\n",
        "print('Skalarni produkt sva vektora = ' , scalar_product)\n",
        "\n"
      ]
    },
    {
      "cell_type": "code",
      "source": [
        "# zad 2\n",
        "\n",
        "def multiply(a,b,c,d):\n",
        "  matrica1 = np.random.randint(1,7, size=(a,b))\n",
        "  matrica2 = np.random.randint(1,7, size=(c,d))\n",
        "\n",
        "  print('Matrica 1 --> ', matrica1)\n",
        "  print('Matrica 2 -->', matrica2)\n",
        "\n",
        "  if b != c:\n",
        "    print('Umnožak matrica nije moguć')\n",
        "    return None\n",
        "\n",
        "  umnozak = np.dot(matrica1, matrica2)\n",
        "  return print('Umnozak matrica --> ', umnozak)\n",
        "\n",
        "multiply(2,2,2,5)\n"
      ],
      "metadata": {
        "colab": {
          "base_uri": "https://localhost:8080/"
        },
        "id": "6XliPDScSF5w",
        "outputId": "023295d5-f411-447b-d151-fca3e708219b"
      },
      "execution_count": 23,
      "outputs": [
        {
          "output_type": "stream",
          "name": "stdout",
          "text": [
            "Matrica 1 -->  [[6 5]\n",
            " [5 6]]\n",
            "Matrica 2 --> [[5 1 6]\n",
            " [6 5 1]]\n",
            "Umnozak matrica -->  [[60 31 41]\n",
            " [61 35 36]]\n"
          ]
        }
      ]
    },
    {
      "cell_type": "code",
      "source": [
        "#zad3\n",
        "\n",
        "def randomArray(m,n,d):\n",
        "\n",
        "  if d == \"uniform\":\n",
        "    min_val = float(input(\"Unesite minimalnu vrijednost: \"))\n",
        "    max_val = float(input(\"Unesite maksimalnu vrijednost: \"))\n",
        "    return np.random.uniform(min_val, max_val, size=(m, n))\n",
        "  elif d == \"normal\":\n",
        "    mu = float(input(\"Unesite srednju vrijednost (mu): \"))\n",
        "    sigma = float(input(\"Unesite standardnu devijaciju (sigma): \"))\n",
        "    return np.random.normal(mu, sigma, size=(m, n))\n",
        "  elif d == \"poisson\":\n",
        "    lam = float(input(\"Unesite lambda: \"))\n",
        "    return np.random.poisson(lam, size=(m, n))\n",
        "  else:\n",
        "    print('Pogresan unos distribucije!')\n",
        "    return np.random.normal(0, 1, size=(m, n))\n",
        "\n",
        "m, n = 5, 7\n",
        "A = randomArray(m, n, \"normal\")\n",
        "print(A)"
      ],
      "metadata": {
        "colab": {
          "base_uri": "https://localhost:8080/"
        },
        "id": "hh3ncrhQYH-1",
        "outputId": "143a0d33-0420-4619-90ae-f862d6bf7fa7"
      },
      "execution_count": 42,
      "outputs": [
        {
          "output_type": "stream",
          "name": "stdout",
          "text": [
            "Unesite srednju vrijednost (mu): 1\n",
            "Unesite standardnu devijaciju (sigma): 3\n",
            "[[-1.56997251 -1.40192658 -0.02318856 -0.14887664  5.36996884  1.04871672\n",
            "   8.348442  ]\n",
            " [-1.46291555  5.25830808 -4.00784789  4.35736358  5.4510087  -0.55365578\n",
            "   1.91035288]\n",
            " [-0.85655677 -1.11924892 -5.98141977  3.38652571  6.26332901 -1.40922462\n",
            "  -3.68116066]\n",
            " [-1.17917179 -2.06299258  1.61643785  2.74930291  1.55645716  1.11756104\n",
            "   5.46756777]\n",
            " [ 2.00632563  4.21251856  6.57485502  1.24924209 -2.1212655  -4.29426407\n",
            "   0.29919318]]\n"
          ]
        }
      ]
    }
  ]
}